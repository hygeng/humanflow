{
 "cells": [
  {
   "cell_type": "code",
   "execution_count": 46,
   "metadata": {},
   "outputs": [],
   "source": [
    "# read configs from file\n",
    "import humanflow as hf\n",
    "import json\n",
    "top_dir = \"./\""
   ]
  },
  {
   "cell_type": "code",
   "execution_count": 47,
   "metadata": {},
   "outputs": [],
   "source": [
    "# config file\n",
    "config_dir = top_dir + \"proto/configFile/\"\n",
    "config_path = config_dir + \"Config.json\"\n",
    "EpiConfig_path = config_dir + \"EpiConfig.json\"\n",
    "# InterveneConfig_path = config_dir + \"InterveneConfig.json\""
   ]
  },
  {
   "cell_type": "code",
   "execution_count": 48,
   "metadata": {},
   "outputs": [],
   "source": [
    "# read config file\n",
    "def get_dict(filepath):\n",
    "    with open(filepath, 'r') as load_f:\n",
    "        return_dict = json.load(load_f)\n",
    "    return return_dict"
   ]
  },
  {
   "cell_type": "code",
   "execution_count": 49,
   "metadata": {},
   "outputs": [],
   "source": [
    "configDict = get_dict(config_path)\n",
    "EpiConfigDict = get_dict(EpiConfig_path)\n",
    "# InterveneConfigDict = get_dict(InterveneConfig_path)"
   ]
  },
  {
   "attachments": {},
   "cell_type": "markdown",
   "metadata": {},
   "source": [
    "# mobility module "
   ]
  },
  {
   "cell_type": "code",
   "execution_count": 50,
   "metadata": {},
   "outputs": [
    {
     "name": "stdout",
     "output_type": "stream",
     "text": [
      "Finished generating 99 location & 100000 man\n"
     ]
    }
   ],
   "source": [
    "####### initiliate the mobility (from 3 ways)\n",
    "# by default settings\n",
    "env = hf.mobility()\n"
   ]
  },
  {
   "cell_type": "code",
   "execution_count": 51,
   "metadata": {},
   "outputs": [
    {
     "name": "stdout",
     "output_type": "stream",
     "text": [
      "Finished generating 99 location & 999 man\n"
     ]
    }
   ],
   "source": [
    "# by customizing mobility configs\n",
    "env = hf.mobility(configDict)\n"
   ]
  },
  {
   "cell_type": "code",
   "execution_count": 52,
   "metadata": {},
   "outputs": [
    {
     "name": "stdout",
     "output_type": "stream",
     "text": [
      "Finished generating 99 location & 999 man\n"
     ]
    }
   ],
   "source": [
    "# by customizing mobility and epidemic configs\n",
    "env = hf.mobility(configDict, EpiConfigDict)"
   ]
  },
  {
   "cell_type": "code",
   "execution_count": 53,
   "metadata": {},
   "outputs": [
    {
     "name": "stdout",
     "output_type": "stream",
     "text": [
      "Finished generating 99 location & 999 man\n"
     ]
    },
    {
     "data": {
      "text/plain": [
       "True"
      ]
     },
     "execution_count": 53,
     "metadata": {},
     "output_type": "execute_result"
    }
   ],
   "source": [
    "# reset \n",
    "env.reset()"
   ]
  },
  {
   "attachments": {},
   "cell_type": "markdown",
   "metadata": {},
   "source": [
    "## mobility  simulation \n",
    " before epidemic simulation, mobility simulation is a necessary, including two API:"
   ]
  },
  {
   "cell_type": "code",
   "execution_count": 54,
   "metadata": {},
   "outputs": [
    {
     "data": {
      "text/plain": [
       "True"
      ]
     },
     "execution_count": 54,
     "metadata": {},
     "output_type": "execute_result"
    }
   ],
   "source": [
    "# conduct simulation for hours (1 step = 1 hour)\n",
    "env.stepHour(1)"
   ]
  },
  {
   "cell_type": "code",
   "execution_count": 55,
   "metadata": {},
   "outputs": [
    {
     "data": {
      "text/plain": [
       "True"
      ]
     },
     "execution_count": 55,
     "metadata": {},
     "output_type": "execute_result"
    }
   ],
   "source": [
    "# conduct simulation for days (1 day  = 14 steps)\n",
    "env.stepDay(2)"
   ]
  },
  {
   "cell_type": "code",
   "execution_count": 56,
   "metadata": {},
   "outputs": [
    {
     "name": "stdout",
     "output_type": "stream",
     "text": [
      "28 2\n"
     ]
    }
   ],
   "source": [
    "# query global clock (in step/hour, and in day)\n",
    "cur_step = env.get_cur_step()\n",
    "cur_day = env.get_cur_day()\n",
    "print(cur_step, cur_day)"
   ]
  },
  {
   "attachments": {},
   "cell_type": "markdown",
   "metadata": {},
   "source": [
    "currently, the man index and location index reserves first few indexes that users could not use. here are api to check if they are valid:"
   ]
  },
  {
   "cell_type": "code",
   "execution_count": 57,
   "metadata": {},
   "outputs": [],
   "source": [
    "\n",
    "is_valid = env.isValidManIdx(manIdx = 5)\n",
    "is_valid = env.isValidLocIdx(locIdx = 5)"
   ]
  },
  {
   "attachments": {},
   "cell_type": "markdown",
   "metadata": {},
   "source": [
    "Two APIs to check history locations people have been to:"
   ]
  },
  {
   "cell_type": "code",
   "execution_count": 58,
   "metadata": {},
   "outputs": [
    {
     "name": "stdout",
     "output_type": "stream",
     "text": [
      "6\n",
      "21\n",
      "9\n",
      "31\n",
      "20\n",
      "3\n",
      "28\n"
     ]
    }
   ],
   "source": [
    "# get position of man at queryStep\n",
    "for manIdx in range(3, 10):\n",
    "    res = env.get_hour_man2loc(manIdx, cur_step)\n",
    "    print(res)"
   ]
  },
  {
   "cell_type": "code",
   "execution_count": 59,
   "metadata": {},
   "outputs": [
    {
     "name": "stdout",
     "output_type": "stream",
     "text": [
      "Person 3 historical trajectories:  [48, 48, 48, 75, 75]\n",
      "Person 4 historical trajectories:  [57, 57, 57, 93, 93]\n",
      "Person 5 historical trajectories:  [45, 45, 45, 86, 86]\n",
      "Person 6 historical trajectories:  [53, 53, 53, 79, 79]\n",
      "Person 7 historical trajectories:  [52, 52, 52, 92, 92]\n",
      "Person 8 historical trajectories:  [44, 44, 44, 76, 76]\n",
      "Person 9 historical trajectories:  [43, 43, 43, 101, 101]\n"
     ]
    }
   ],
   "source": [
    "# get history positions of man at queryStep and past period\n",
    "for manIdx in range(3, 10):\n",
    "    res = env.get_his_man2loc(manIdx, cur_step, steps_back = 5)\n",
    "    print(f\"Person {manIdx} historical trajectories: \",res)"
   ]
  },
  {
   "attachments": {},
   "cell_type": "markdown",
   "metadata": {},
   "source": [
    "Two APIs to check history group of people for some location: get position of man at ${queryStep}"
   ]
  },
  {
   "cell_type": "code",
   "execution_count": 60,
   "metadata": {},
   "outputs": [
    {
     "name": "stdout",
     "output_type": "stream",
     "text": [
      "Location 3 at time 28 contain group of people [8, 103, 139, 193, 240, 243, 250, 268, 301, 307, 312, 334, 339, 393, 395, 401, 435, 452, 477, 486, 513, 602, 615, 639, 690, 698, 700, 716, 734, 736, 741, 765, 791, 793, 881, 889, 967, 972]\n",
      "Location 4 at time 28 contain group of people [11, 37, 75, 114, 123, 134, 159, 167, 222, 226, 245, 262, 286, 319, 325, 391, 411, 462, 470, 483, 500, 581, 586, 597, 623, 661, 704, 718, 728, 757, 832, 853, 915, 962, 987, 994]\n",
      "Location 5 at time 28 contain group of people [17, 64, 88, 152, 235, 277, 402, 453, 466, 468, 482, 498, 518, 558, 576, 588, 590, 645, 667, 770, 780, 831, 902, 906, 913, 943, 965, 969]\n",
      "Location 6 at time 28 contain group of people [3, 50, 58, 71, 91, 118, 147, 162, 184, 185, 188, 236, 279, 349, 356, 394, 421, 473, 488, 516, 537, 544, 548, 630, 693, 711, 768, 772, 804, 904, 973]\n",
      "Location 7 at time 28 contain group of people [61, 86, 109, 124, 129, 145, 174, 177, 213, 230, 290, 292, 406, 423, 428, 481, 490, 506, 524, 568, 600, 610, 612, 636, 654, 727, 774, 834, 894]\n",
      "Location 8 at time 28 contain group of people [39, 40, 128, 135, 150, 208, 209, 221, 252, 265, 272, 287, 313, 416, 447, 454, 461, 493, 515, 521, 525, 533, 565, 587, 629, 694, 697, 707, 732, 744, 750, 751, 764, 825, 876, 936, 949, 956]\n",
      "Location 9 at time 28 contain group of people [5, 24, 171, 201, 202, 239, 300, 337, 534, 582, 589, 622, 680, 681, 746, 763, 784, 805, 812, 843, 860, 935, 944, 977]\n"
     ]
    }
   ],
   "source": [
    "# get group of people at some place at queryStep\n",
    "for locIdx in range(3, 10):\n",
    "    res = env.get_hour_loc2man(locIdx, cur_step)\n",
    "    print(f\"Location {locIdx} at time {cur_step} contain group of people\", res)"
   ]
  },
  {
   "cell_type": "code",
   "execution_count": 43,
   "metadata": {},
   "outputs": [
    {
     "name": "stdout",
     "output_type": "stream",
     "text": [
      "3 contains people [[], [], [], [], []] at step 28\n",
      "4 contains people [[], [], [], [], []] at step 28\n",
      "5 contains people [[], [], [], [], []] at step 28\n",
      "6 contains people [[], [], [], [], []] at step 28\n",
      "7 contains people [[], [], [], [], []] at step 28\n",
      "8 contains people [[], [], [], [], []] at step 28\n",
      "9 contains people [[11, 21, 22, 29, 34, 48, 50, 65, 69, 71, 78, 82, 86, 93, 94, 107, 120, 126, 128, 135, 139, 142, 153, 155, 157, 159, 160, 163, 166, 169, 174, 186, 194, 197, 206, 215, 225, 231, 238, 242, 251, 255, 272, 283, 294, 295, 296, 304, 311, 314, 315, 326, 328, 333, 335, 346, 348, 358, 359, 372, 384, 390, 394, 415, 440, 442, 445, 452, 457, 470, 475, 478, 485, 501, 504, 511, 525, 526, 535, 536, 538, 541, 549, 563, 572, 576, 578, 580, 588, 599, 600, 602, 620, 627, 632, 637, 648, 650, 655, 663, 665, 672, 681, 682, 685, 691, 714, 716, 717, 724, 729, 734, 739, 741, 748, 755, 758, 759, 768, 776, 789, 797, 807, 825, 830, 833, 841, 844, 850, 854, 859, 871, 887, 897, 916, 917, 918, 921, 930, 935, 944, 958, 963, 976, 987], [11, 21, 22, 29, 34, 48, 50, 65, 69, 71, 78, 82, 86, 93, 94, 107, 120, 126, 128, 135, 139, 142, 153, 155, 157, 159, 160, 163, 166, 169, 174, 186, 194, 197, 206, 215, 225, 231, 238, 242, 251, 255, 272, 283, 294, 295, 296, 304, 311, 314, 315, 326, 328, 333, 335, 346, 348, 358, 359, 372, 384, 390, 394, 415, 440, 442, 445, 452, 457, 470, 475, 478, 485, 501, 504, 511, 525, 526, 535, 536, 538, 541, 549, 563, 572, 576, 578, 580, 588, 599, 600, 602, 620, 627, 632, 637, 648, 650, 655, 663, 665, 672, 681, 682, 685, 691, 714, 716, 717, 724, 729, 734, 739, 741, 748, 755, 758, 759, 768, 776, 789, 797, 807, 825, 830, 833, 841, 844, 850, 854, 859, 871, 887, 897, 916, 917, 918, 921, 930, 935, 944, 958, 963, 976, 987], [11, 21, 22, 29, 34, 48, 50, 65, 69, 71, 78, 82, 86, 93, 94, 107, 120, 126, 128, 135, 139, 142, 153, 155, 157, 159, 160, 163, 166, 169, 174, 186, 194, 197, 206, 215, 225, 231, 238, 242, 251, 255, 272, 283, 294, 295, 296, 304, 311, 314, 315, 326, 328, 333, 335, 346, 348, 358, 359, 372, 384, 390, 394, 415, 440, 442, 445, 452, 457, 470, 475, 478, 485, 501, 504, 511, 525, 526, 535, 536, 538, 541, 549, 563, 572, 576, 578, 580, 588, 599, 600, 602, 620, 627, 632, 637, 648, 650, 655, 663, 665, 672, 681, 682, 685, 691, 714, 716, 717, 724, 729, 734, 739, 741, 748, 755, 758, 759, 768, 776, 789, 797, 807, 825, 830, 833, 841, 844, 850, 854, 859, 871, 887, 897, 916, 917, 918, 921, 930, 935, 944, 958, 963, 976, 987], [], []] at step 28\n"
     ]
    }
   ],
   "source": [
    "# get at queryStep and past period\n",
    "for locIdx in range(3, 10):\n",
    "    res = env.get_his_loc2man(locIdx, cur_step, steps_back = 5)\n",
    "    print(f\"{locIdx} contains people {res} at step {cur_step}\")"
   ]
  },
  {
   "attachments": {},
   "cell_type": "markdown",
   "metadata": {},
   "source": [
    "## APIs for basic mobility statistics:"
   ]
  },
  {
   "cell_type": "code",
   "execution_count": 61,
   "metadata": {},
   "outputs": [
    {
     "data": {
      "text/plain": [
       "(999, 99)"
      ]
     },
     "execution_count": 61,
     "metadata": {},
     "output_type": "execute_result"
    }
   ],
   "source": [
    "# query man and location total number\n",
    "man_num = env.man_num()\n",
    "loc_num = env.loc_num()\n",
    "man_num, loc_num"
   ]
  },
  {
   "attachments": {},
   "cell_type": "markdown",
   "metadata": {},
   "source": [
    "get health status for person:    \n",
    "- 0:susceptible(S)    \n",
    "- 1:incubation(E)    \n",
    "- 2:critical infected(I)    \n",
    "- 3:recovered (R)   "
   ]
  },
  {
   "cell_type": "code",
   "execution_count": 64,
   "metadata": {},
   "outputs": [
    {
     "name": "stdout",
     "output_type": "stream",
     "text": [
      "health status of person 10 is 1\n",
      "acquantance group of person 10 is [894, 352]\n"
     ]
    }
   ],
   "source": [
    "# \n",
    "hs = env.getManHealthStatus(manIdx = 10)\n",
    "# get acquantance group for person\n",
    "group = env.getManAcqtGroup(manIdx = 10)\n",
    "print(f\"health status of person 10 is {hs}\")\n",
    "print(f\"acquantance group of person 10 is {group}\")"
   ]
  },
  {
   "attachments": {},
   "cell_type": "markdown",
   "metadata": {},
   "source": [
    "query location type:   \n",
    "- 0: home  \n",
    "- 1: work  \n",
    "- 2: entertainment"
   ]
  },
  {
   "cell_type": "code",
   "execution_count": 68,
   "metadata": {},
   "outputs": [
    {
     "name": "stdout",
     "output_type": "stream",
     "text": [
      "0\n"
     ]
    }
   ],
   "source": [
    "\n",
    "locIdx = env.getLocType(locIdx = 10)\n",
    "print(locIdx)"
   ]
  },
  {
   "cell_type": "code",
   "execution_count": 71,
   "metadata": {},
   "outputs": [
    {
     "name": "stdout",
     "output_type": "stream",
     "text": [
      "S, E, I, R:  [0, 5, 0, 0]\n"
     ]
    }
   ],
   "source": [
    "# count number of S, E, I, R for a list of person IDs\n",
    "seir = env.countGroupSEIR(GroupOfPeople = [3,4,5,6,7])\n",
    "print(\"S, E, I, R: \",seir)\n"
   ]
  },
  {
   "cell_type": "code",
   "execution_count": 72,
   "metadata": {},
   "outputs": [
    {
     "data": {
      "text/plain": [
       "True"
      ]
     },
     "execution_count": 72,
     "metadata": {},
     "output_type": "execute_result"
    }
   ],
   "source": [
    "# initial infected man\n",
    "initInfectedMan = [idx for idx in range(3, 10)]\n",
    "env.setInitInfection(initInfectedMan)"
   ]
  },
  {
   "attachments": {},
   "cell_type": "markdown",
   "metadata": {},
   "source": [
    "two equivelant way to conduct a 10 day simulation"
   ]
  },
  {
   "cell_type": "code",
   "execution_count": 82,
   "metadata": {},
   "outputs": [
    {
     "name": "stdout",
     "output_type": "stream",
     "text": [
      "Finished generating 99 location & 999 man\n",
      "day:0\tday:1\tday:2\tday:3\tday:4\tday:5\tday:6\tday:7\tday:8\tday:9\tday:10\tday:11\tday:12\tday:13\tday:14\tday:15\tday:16\tday:17\tday:18\tday:19\t"
     ]
    }
   ],
   "source": []
  },
  {
   "cell_type": "code",
   "execution_count": 86,
   "metadata": {},
   "outputs": [
    {
     "name": "stdout",
     "output_type": "stream",
     "text": [
      "Finished generating 99 location & 999 man\n",
      "day:0\tday:1\tday:2\tday:3\tday:4\tday:5\tday:6\tday:7\tday:8\tday:9\t"
     ]
    },
    {
     "data": {
      "text/plain": [
       "True"
      ]
     },
     "execution_count": 86,
     "metadata": {},
     "output_type": "execute_result"
    }
   ],
   "source": [
    "# by a simple function call, where all the above are included\n",
    "env.reset()\n",
    "env.generateDayInfection(10)"
   ]
  },
  {
   "cell_type": "code",
   "execution_count": 87,
   "metadata": {},
   "outputs": [
    {
     "data": {
      "text/plain": [
       "184"
      ]
     },
     "execution_count": 87,
     "metadata": {},
     "output_type": "execute_result"
    }
   ],
   "source": [
    "# query current infected number\n",
    "cur_infected_num = env.getInfectedCount()\n",
    "cur_infected_num"
   ]
  },
  {
   "attachments": {},
   "cell_type": "markdown",
   "metadata": {},
   "source": [
    "## epidemic statistics:"
   ]
  },
  {
   "cell_type": "code",
   "execution_count": 93,
   "metadata": {},
   "outputs": [
    {
     "name": "stdout",
     "output_type": "stream",
     "text": [
      "[953, 825, 29, 366, 956, 424, 602, 818, 877, 981, 925, 225, 105, 508, 280, 281, 233, 130, 478, 691, 155, 26, 970, 429, 559, 567, 490, 999, 712, 369, 860, 261, 775, 997, 110, 826, 927, 394, 565, 498, 560, 835, 397, 407, 985, 813, 509, 658, 304, 638, 924, 18, 73, 645, 57, 783, 469, 746, 770, 798, 65, 647, 913, 332, 118, 607, 371, 368, 937, 624, 884, 326, 335, 955, 170, 914, 319, 61, 13, 497, 139, 414, 78, 847, 785, 897, 563, 359, 137, 363, 222, 716, 640, 871, 220, 950, 223, 558, 977, 197, 496, 193, 531, 779, 428, 727, 537, 263, 215, 613, 339, 571, 920, 719, 731, 198, 230, 723, 194, 472, 203, 678, 544, 697, 74, 134, 396, 266, 833, 239, 743, 434, 843, 85, 146, 796, 254, 595, 650, 82, 167, 458, 933, 870, 313, 305, 681, 196, 236, 768, 1001, 919, 87, 420, 605, 569, 295, 881, 943, 979, 388, 905, 374, 618, 882, 109, 415, 19, 547, 659, 41, 302, 831, 399, 973, 59, 548, 789, 145, 620, 732, 845, 237, 156, 800, 527, 594, 152, 891, 284, 714, 128, 525, 476, 252, 46, 77, 207, 677, 171, 554, 107, 190, 961, 720, 30, 627, 450, 346, 922, 120, 274, 461, 249, 125, 633, 32, 699, 604, 24, 372, 899, 670, 929, 983, 69, 538, 893, 949, 259, 377, 430, 611, 214, 36, 502, 923, 457, 513, 523, 784, 226, 750, 38, 91, 375, 918, 317, 355, 315, 418, 703, 328, 277, 124, 827, 81, 269, 830, 963, 444, 66, 705, 290, 737, 518, 744, 729, 734, 576, 606, 686, 684, 810, 80, 408, 157, 648, 234, 666, 742, 928, 651, 876, 401, 938, 347, 756, 47, 948, 753, 27, 601, 642, 104, 915, 680, 942, 357, 48, 617, 40, 386, 591, 912, 179, 793, 311, 541, 711, 165, 828, 909, 148, 811, 279, 808, 477, 939, 960, 589, 467, 781, 278, 517, 238, 863, 54, 846, 749, 367, 815, 892, 772, 360, 260, 685, 637, 832, 321, 500, 172, 344, 212, 174, 1000, 549, 904, 451, 245, 452, 150, 848, 114, 459, 603, 628, 930, 380, 361, 228, 483, 98, 438, 599, 578, 343, 505, 556, 916, 856, 56, 713, 151, 108, 44, 95, 829, 185, 484, 582, 874, 562, 721, 534, 869, 596, 754, 516, 791, 341, 276, 588, 440, 625, 52, 298, 166, 53, 853, 441, 975, 106, 646, 978, 435, 536, 736, 782, 465, 724, 733, 206, 766, 423, 849, 133, 322, 312, 382, 460, 288, 180, 823, 67, 991, 755, 390, 153, 967, 272, 138, 499, 535, 270, 726, 934, 941, 349, 616, 976, 672, 491, 980, 323, 310, 37, 216, 449, 804, 337, 816, 807, 510, 767, 448, 129, 431, 296, 309, 861, 479, 889, 379, 258, 141, 219, 530, 664, 15]\n"
     ]
    }
   ],
   "source": [
    "# get incubation count and people list\n",
    "count = env.getIncubationCount()\n",
    "incu_manlist = env.getIncubationManList()\n",
    "print(incu_manlist)"
   ]
  },
  {
   "cell_type": "code",
   "execution_count": 94,
   "metadata": {},
   "outputs": [],
   "source": [
    "# get infection count and people list\n",
    "count = env.getInfectedCount()\n",
    "infected_manlist = env.getInfectedManList()\n",
    "daily_infected_manlist = env.getDailyInfectedManList()"
   ]
  },
  {
   "cell_type": "code",
   "execution_count": null,
   "metadata": {},
   "outputs": [],
   "source": [
    "# get recovered count\n",
    "# not supported"
   ]
  },
  {
   "attachments": {},
   "cell_type": "markdown",
   "metadata": {},
   "source": [
    "## intervention & control   "
   ]
  },
  {
   "cell_type": "code",
   "execution_count": 95,
   "metadata": {},
   "outputs": [
    {
     "data": {
      "text/plain": [
       "True"
      ]
     },
     "execution_count": 95,
     "metadata": {},
     "output_type": "execute_result"
    }
   ],
   "source": [
    "# conduct intervention for person:  0: no intervention 1:confine 2:isolate 3: hospitalize\n",
    "env.setIntervention( manIdx= 100, interventionType =1, contHours = 14) #contHours: continuing hours for the intervention"
   ]
  },
  {
   "cell_type": "code",
   "execution_count": 96,
   "metadata": {},
   "outputs": [
    {
     "data": {
      "text/plain": [
       "True"
      ]
     },
     "execution_count": 96,
     "metadata": {},
     "output_type": "execute_result"
    }
   ],
   "source": [
    "# conduct intervention for groups \n",
    "env.setInterventionGroup([3,4,5,6], interventionType =1, contHours=14)"
   ]
  }
 ],
 "metadata": {
  "kernelspec": {
   "display_name": "mac",
   "language": "python",
   "name": "python3"
  },
  "language_info": {
   "codemirror_mode": {
    "name": "ipython",
    "version": 3
   },
   "file_extension": ".py",
   "mimetype": "text/x-python",
   "name": "python",
   "nbconvert_exporter": "python",
   "pygments_lexer": "ipython3",
   "version": "3.8.13 (default, Oct 19 2022, 17:54:22) \n[Clang 12.0.0 ]"
  },
  "orig_nbformat": 4,
  "vscode": {
   "interpreter": {
    "hash": "8d4dfaafca78a29ab4be4d27bc758fbda5a5240d1757f309e598c174af924f4a"
   }
  }
 },
 "nbformat": 4,
 "nbformat_minor": 2
}
